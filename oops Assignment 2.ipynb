{
 "cells": [
  {
   "cell_type": "code",
   "execution_count": null,
   "id": "0f4503eb-297a-446b-be00-ff855f296006",
   "metadata": {},
   "outputs": [],
   "source": [
    "#Q1: What is Abstraction in OOPs? Explain with an example."
   ]
  },
  {
   "cell_type": "code",
   "execution_count": null,
   "id": "c8c09b1a-af6c-4bfc-a4ab-1cac55ca41fb",
   "metadata": {},
   "outputs": [],
   "source": [
    "Abstraction in OOPs:\n",
    "Abstraction is one of the four fundamental principles of Object-Oriented Programming (OOP) and involves simplifying complex systems by modeling classes based on the essential properties and behaviors they share. It focuses on what an object does rather than how it achieves its functionality.\n",
    "\n",
    "Example:"
   ]
  },
  {
   "cell_type": "code",
   "execution_count": 1,
   "id": "be49b8d7-90fc-4211-8836-57581964132d",
   "metadata": {},
   "outputs": [
    {
     "name": "stdout",
     "output_type": "stream",
     "text": [
      "78.5\n"
     ]
    }
   ],
   "source": [
    "from abc import ABC, abstractmethod\n",
    "\n",
    "# Abstract class representing a shape\n",
    "class Shape(ABC):\n",
    "    @abstractmethod\n",
    "    def area(self):\n",
    "        pass\n",
    "\n",
    "# Concrete class implementing the abstract class\n",
    "class Circle(Shape):\n",
    "    def __init__(self, radius):\n",
    "        self.radius = radius\n",
    "\n",
    "    def area(self):\n",
    "        return 3.14 * self.radius ** 2\n",
    "\n",
    "# Object instantiation and method call\n",
    "my_circle = Circle(5)\n",
    "print(my_circle.area())  # Output: 78.5\n"
   ]
  },
  {
   "cell_type": "code",
   "execution_count": null,
   "id": "d9bf4595-e3c9-4564-8d41-37b41208f617",
   "metadata": {},
   "outputs": [],
   "source": [
    "#Q2: Differentiate between Abstraction and Encapsulation. Explain with an example."
   ]
  },
  {
   "cell_type": "code",
   "execution_count": null,
   "id": "535bbf89-16ec-4592-8a2c-e1bf9055f09e",
   "metadata": {},
   "outputs": [],
   "source": [
    "Abstraction:\n",
    "\n",
    "Abstraction is about hiding the implementation details and showing only the necessary features of an object.\n",
    "It focuses on the essential characteristics of an object, ignoring the irrelevant details.\n",
    "Achieved through abstract classes and interfaces.\n",
    "\n",
    "\n",
    "Encapsulation:\n",
    "\n",
    "Encapsulation is about bundling the data (attributes) and methods (functions) that operate on the data into a single unit (class).\n",
    "It restricts access to some of an object's components and prevents the accidental modification of data.\n",
    "Achieved through access specifiers (public, private, protected) and getter/setter methods."
   ]
  },
  {
   "cell_type": "code",
   "execution_count": null,
   "id": "9b182e0d-2b8e-4e6e-9154-a8835b34b77e",
   "metadata": {},
   "outputs": [],
   "source": [
    "# Abstraction Example\n",
    "from abc import ABC, abstractmethod\n",
    "\n",
    "class Shape(ABC):\n",
    "    @abstractmethod\n",
    "    def area(self):\n",
    "        pass\n",
    "\n",
    "# Encapsulation Example\n",
    "class Car:\n",
    "    def __init__(self, make, model):\n",
    "        self._make = make  # Encapsulation with a single leading underscore\n",
    "        self._model = model\n",
    "\n",
    "    def get_make(self):  # Getter method\n",
    "        return self._make\n",
    "\n",
    "    def set_make(self, make):  # Setter method\n",
    "        self._make = make\n",
    "\n",
    "# Creating instances and demonstrating abstraction and encapsulation\n",
    "my_shape = Shape()  # Cannot create an instance of an abstract class (abstraction)\n",
    "my_car = Car(\"Toyota\", \"Camry\")\n",
    "print(my_car.get_make())  # Accessing attribute through a getter method\n",
    "my_car.set_make(\"Honda\")  # Modifying attribute through a setter method\n",
    "print(my_car.get_make())  # Output: Honda\n"
   ]
  },
  {
   "cell_type": "code",
   "execution_count": null,
   "id": "ebd4afc4-4d56-46bd-a209-b103f0c7fcd6",
   "metadata": {},
   "outputs": [],
   "source": [
    "#Q3: What is the abc module in Python? Why is it used?"
   ]
  },
  {
   "cell_type": "code",
   "execution_count": null,
   "id": "fd2be110-e449-4e45-8ac5-b15bd28a0610",
   "metadata": {},
   "outputs": [],
   "source": [
    "abc module in Python:\n",
    "The abc module in Python stands for \"Abstract Base Classes.\" It provides the ABC (Abstract Base Class) and abstractmethod decorators, allowing the creation of abstract classes and abstract methods.\n",
    "\n",
    "Usage:\n",
    "\n",
    "It is used for implementing abstract classes and abstract methods.\n",
    "It enforces the presence of specific methods in derived classes.\n",
    "It helps achieve abstraction by defining a common interface for a group of related classes.\n"
   ]
  },
  {
   "cell_type": "code",
   "execution_count": null,
   "id": "379ee1a0-2951-468c-8fe9-2443dc9ae539",
   "metadata": {},
   "outputs": [],
   "source": [
    "#Q4: How can we achieve data abstraction?"
   ]
  },
  {
   "cell_type": "code",
   "execution_count": null,
   "id": "c60094ff-de19-4bf9-8e4a-7ba95336ad0c",
   "metadata": {},
   "outputs": [],
   "source": [
    "Achieving Data Abstraction:\n",
    "Data abstraction can be achieved in Python through the following mechanisms:\n",
    "\n",
    "1.Abstract Classes: Define abstract classes using the abc module, specifying abstract methods that must be implemented by derived classes.\n",
    "\n",
    "2. Interfaces: Use abstract classes to create interfaces, defining a common set of methods that classes must implement.\n",
    "\n",
    "3.Encapsulation: Encapsulate data within classes and provide controlled access to attributes using getter and setter methods.\n",
    "\n",
    "4.Use of Access Specifiers: Apply access specifiers (public, private, protected) to attributes, restricting direct access and modification."
   ]
  },
  {
   "cell_type": "code",
   "execution_count": 4,
   "id": "c3afba0d-5b85-43ef-98bb-dbaafc4735e9",
   "metadata": {},
   "outputs": [
    {
     "name": "stdout",
     "output_type": "stream",
     "text": [
      "78.5\n"
     ]
    }
   ],
   "source": [
    "from abc import ABC, abstractmethod\n",
    "\n",
    "# Abstract class representing data abstraction\n",
    "class Shape(ABC):\n",
    "    @abstractmethod\n",
    "    def area(self):\n",
    "        pass\n",
    "\n",
    "# Concrete class implementing the abstract class\n",
    "class Circle(Shape):\n",
    "    def __init__(self, radius):\n",
    "        self._radius = radius  # Encapsulation with a single leading underscore\n",
    "\n",
    "    def area(self):\n",
    "        return 3.14 * self._radius ** 2\n",
    "\n",
    "# Object instantiation and method call\n",
    "my_circle = Circle(5)\n",
    "print(my_circle.area())  # Output: 78.5\n"
   ]
  },
  {
   "cell_type": "code",
   "execution_count": null,
   "id": "d26c1283-eb60-4c99-9184-18ac95dd2905",
   "metadata": {},
   "outputs": [],
   "source": [
    "#Q5: Can we create an instance of an abstract class? Explain your answer.\n"
   ]
  },
  {
   "cell_type": "code",
   "execution_count": null,
   "id": "bf2e7dd2-5efb-4eb5-b7ff-370fb1fe6abd",
   "metadata": {},
   "outputs": [],
   "source": [
    "No, we cannot create an instance of an abstract class in Python.\n",
    "\n",
    "Explanation:\n",
    "\n",
    "Abstract classes are meant to be incomplete and serve as blueprints for other classes.\n",
    "They may contain abstract methods that have no implementation in the abstract class itself.\n",
    "Instantiating an abstract class directly would be impractical as it would lead to objects with undefined behavior for abstract methods.\n",
    "Example:"
   ]
  },
  {
   "cell_type": "code",
   "execution_count": null,
   "id": "c1a671c7-91a2-4fc9-ba44-6b20b636f655",
   "metadata": {},
   "outputs": [],
   "source": [
    "from abc import ABC, abstractmethod\n",
    "\n",
    "# Abstract class\n",
    "class Shape(ABC):\n",
    "    @abstractmethod\n",
    "    def area(self):\n",
    "       \n"
   ]
  },
  {
   "cell_type": "code",
   "execution_count": 6,
   "id": "c82c1d33-1af0-451e-9ca9-12939023f1a2",
   "metadata": {},
   "outputs": [
    {
     "name": "stdout",
     "output_type": "stream",
     "text": [
      "78.5\n"
     ]
    }
   ],
   "source": [
    "# Concrete class implementing the abstract class\n",
    "class Circle(Shape):\n",
    "    def __init__(self, radius):\n",
    "        self.radius = radius\n",
    "\n",
    "    def area(self):\n",
    "        return 3.14 * self.radius ** 2\n",
    "\n",
    "# Object instantiation and method call\n",
    "my_circle = Circle(5)\n",
    "print(my_circle.area())  # Output: 78.5\n"
   ]
  },
  {
   "cell_type": "code",
   "execution_count": null,
   "id": "3639df01-a7a5-43df-ba57-2bd8091d8f1a",
   "metadata": {},
   "outputs": [],
   "source": []
  }
 ],
 "metadata": {
  "kernelspec": {
   "display_name": "Python 3 (ipykernel)",
   "language": "python",
   "name": "python3"
  },
  "language_info": {
   "codemirror_mode": {
    "name": "ipython",
    "version": 3
   },
   "file_extension": ".py",
   "mimetype": "text/x-python",
   "name": "python",
   "nbconvert_exporter": "python",
   "pygments_lexer": "ipython3",
   "version": "3.10.8"
  }
 },
 "nbformat": 4,
 "nbformat_minor": 5
}
